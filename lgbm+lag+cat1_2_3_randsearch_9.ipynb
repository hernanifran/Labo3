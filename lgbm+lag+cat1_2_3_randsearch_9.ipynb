{
 "cells": [
  {
   "cell_type": "code",
   "execution_count": 1,
   "metadata": {},
   "outputs": [],
   "source": [
    "import pandas as pd\n",
    "import numpy as np\n",
    "from datetime import datetime\n",
    "import lightgbm as lgb\n",
    "from sklearn.model_selection import TimeSeriesSplit, RandomizedSearchCV\n",
    "from sklearn.metrics import mean_squared_error, mean_absolute_error, r2_score\n",
    "from tqdm import tqdm\n",
    "from sklearn.exceptions import UndefinedMetricWarning\n",
    "import warnings\n",
    "import xgboost as xgb\n",
    "from sklearn.ensemble import RandomForestRegressor, VotingRegressor\n",
    "\n",
    "# Desactivar los warnings UndefinedMetricWarning para r2_score\n",
    "warnings.filterwarnings(action='ignore', category=UndefinedMetricWarning)"
   ]
  },
  {
   "cell_type": "code",
   "execution_count": 2,
   "metadata": {},
   "outputs": [],
   "source": [
    "def preparar_datos(df, tb_productos, lags=12):\n",
    "    # Convertir el periodo a formato datetime\n",
    "    df['periodo'] = pd.to_datetime(df['periodo'], format='%Y%m')\n",
    "\n",
    "    # Agregar los datos por periodo y product_id para obtener la serie temporal\n",
    "    ts = df.groupby(['periodo', 'product_id'])['tn'].sum().reset_index()\n",
    "\n",
    "    # Unir las categorías de productos desde el archivo tb_productos\n",
    "    ts = ts.merge(tb_productos[['product_id', 'cat1', 'cat2', 'cat3','brand','descripcion','sku_size']], on='product_id', how='left')\n",
    "\n",
    "    # Convertir las columnas de categoría a tipo 'category'\n",
    "    ts['cat1'] = ts['cat1'].astype('category')\n",
    "    ts['cat2'] = ts['cat2'].astype('category')\n",
    "    ts['cat3'] = ts['cat3'].astype('category')\n",
    "    ts['brand'] = ts['brand'].astype('category')\n",
    "    ts['descripcion'] = ts['descripcion'].astype('category')\n",
    "    ts['sku_size'] = ts['sku_size'].astype('category')\n",
    "    \n",
    "    # Crear características adicionales\n",
    "    ts['crisis'] = (ts['periodo'].dt.year == 2019) & (ts['periodo'].dt.month == 8)\n",
    "    ts['quarter'] = ts['periodo'].dt.quarter\n",
    "    ts['month'] = ts['periodo'].dt.month\n",
    "    ts['year'] = ts['periodo'].dt.year\n",
    "    ts['season'] = ts['periodo'].apply(lambda x: 1 if x.month in [6, 7, 8] else 0)\n",
    "    ts['tn_diff'] = ts['tn'].diff()\n",
    "    ts['rolling_mean'] = ts['tn'].rolling(window=3).mean()\n",
    "    ts['interaction'] = ts['year'] * ts['month']\n",
    "\n",
    "    # Normalización por producto\n",
    "    ts['tn_norm'] = ts.groupby('product_id')['tn'].transform(lambda x: (x - x.mean()) / x.std())\n",
    "\n",
    "    # Agregar lags a los datos\n",
    "    for lag in range(1, lags + 1):\n",
    "        ts[f'tn_lag_{lag}'] = ts.groupby('product_id')['tn'].shift(lag)\n",
    "\n",
    "    return ts"
   ]
  },
  {
   "cell_type": "code",
   "execution_count": 3,
   "metadata": {},
   "outputs": [],
   "source": [
    "def entrenar_modelo(ts, lags=12):\n",
    "    # Calcular los pesos basados en ventas\n",
    "    pesos_ventas = calcular_pesos(ts)\n",
    "\n",
    "    # Crear conjunto de entrenamiento y objetivo\n",
    "    X = ts[['product_id', 'cat1', 'cat2','cat3','brand','descripcion','sku_size','crisis', 'quarter', 'month','year','season','tn_diff','rolling_mean','interaction'] + [f'tn_lag_{lag}' for lag in range(1, lags + 1)] + ['tn_norm']]\n",
    "    y = ts['tn'].shift(-2)\n",
    "\n",
    "    # Eliminar las últimas 2 filas\n",
    "    X = X.iloc[:-2]\n",
    "    y = y.iloc[:-2]\n",
    "\n",
    "    # Validación temporal en lugar de train_test_split\n",
    "    tscv = TimeSeriesSplit(n_splits=5)\n",
    "    X_train, X_test, y_train, y_test = None, None, None, None\n",
    "    for train_index, test_index in tscv.split(X):\n",
    "        X_train, X_test = X.iloc[train_index], X.iloc[test_index]\n",
    "        y_train, y_test = y.iloc[train_index], y.iloc[test_index]\n",
    "\n",
    "    # Codificar las características categóricas 'cat1', 'cat2', 'cat3'\n",
    "    for col in ['cat1', 'cat2', 'cat3', 'brand','descripcion','sku_size']:\n",
    "        X_train[col] = X_train[col].astype('category').cat.codes\n",
    "        X_test[col] = X_test[col].astype('category').cat.codes\n",
    "\n",
    "    # Obtener los pesos para el conjunto de entrenamiento\n",
    "    pesos_entrenamiento = pesos_ventas.loc[X_train['product_id']].values\n",
    "\n",
    "    # Definir el espacio de búsqueda de hiperparámetros para LightGBM\n",
    "    param_dist = {\n",
    "        'num_leaves': [31, 50, 70, 128],\n",
    "        'max_depth': [-1, 10, 20, 30],\n",
    "        'learning_rate': [0.01, 0.05, 0.1],\n",
    "        'n_estimators': [100, 200, 500],\n",
    "        'min_child_samples': [20, 30, 40],\n",
    "        'subsample': [0.8, 1.0],\n",
    "        'colsample_bytree': [0.8, 1.0]\n",
    "    }\n",
    "\n",
    "    # Definir el modelo de LightGBM con RandomizedSearchCV\n",
    "    lgb_model = lgb.LGBMRegressor(random_state=42)\n",
    "    random_search = RandomizedSearchCV(lgb_model, param_distributions=param_dist, n_iter=100, cv=5, verbose=1, n_jobs=-1, random_state=42)\n",
    "    random_search.fit(X_train, y_train, sample_weight=pesos_entrenamiento)\n",
    "\n",
    "    print(f\"Best parameters found: {random_search.best_params_}\")\n",
    "\n",
    "    # Crear y ajustar el modelo de Random Forest con pesos\n",
    "    rf_model = RandomForestRegressor(n_estimators=100, random_state=42)\n",
    "    rf_model.fit(X_train, y_train, sample_weight=pesos_entrenamiento)\n",
    "\n",
    "    # Crear y ajustar el modelo de XGBoost con pesos\n",
    "    xgb_model = xgb.XGBRegressor(objective='reg:squarederror', random_state=42)\n",
    "    xgb_model.fit(X_train, y_train, sample_weight=pesos_entrenamiento)\n",
    "\n",
    "    # Obtener el mejor modelo de LightGBM\n",
    "    lgb_model = random_search.best_estimator_\n",
    "\n",
    "    # Crear el modelo de ensemble con VotingRegressor\n",
    "    ensemble_model = VotingRegressor(estimators=[\n",
    "        ('lgb', lgb_model),\n",
    "        ('rf', rf_model),\n",
    "        ('xgb', xgb_model)\n",
    "    ])\n",
    "\n",
    "    # Ajustar el modelo de ensemble\n",
    "    ensemble_model.fit(X_train, y_train, sample_weight=pesos_entrenamiento)\n",
    "\n",
    "    # Predecir en el conjunto de prueba\n",
    "    y_pred = ensemble_model.predict(X_test)\n",
    "\n",
    "    # Calcular métricas de rendimiento\n",
    "    mse = mean_squared_error(y_test, y_pred)\n",
    "    mae = mean_absolute_error(y_test, y_pred)\n",
    "    r2 = r2_score(y_test, y_pred)\n",
    "    print(f\"Ensemble Model MSE: {mse:.4f}, MAE: {mae:.4f}, R²: {r2:.4f}\")\n",
    "\n",
    "    return ensemble_model"
   ]
  },
  {
   "cell_type": "code",
   "execution_count": 4,
   "metadata": {},
   "outputs": [],
   "source": [
    "def calcular_pesos(ts):\n",
    "    # Calcular el total de ventas por producto\n",
    "    ventas_totales = ts.groupby('product_id')['tn'].sum()\n",
    "    # Normalizar los pesos para que sumen 1\n",
    "    pesos = ventas_totales / ventas_totales.sum()\n",
    "    return pesos"
   ]
  },
  {
   "cell_type": "code",
   "execution_count": 5,
   "metadata": {},
   "outputs": [],
   "source": [
    "def predecir_producto(ensemble_model, ts, product_ids, next_period='2020-02-01', lags=12):\n",
    "    next_period = pd.Timestamp(next_period)\n",
    "    results = []\n",
    "\n",
    "    # Calcular los pesos basados en ventas\n",
    "    pesos_ventas = calcular_pesos(ts)\n",
    "\n",
    "    for product_id in tqdm(product_ids, desc=\"Predicting with ensemble model\"):\n",
    "        product_data = ts[ts['product_id'] == product_id].copy()\n",
    "        if not product_data.empty:\n",
    "            last_data = product_data.iloc[-1]\n",
    "\n",
    "            # Convertir a categoría si es list-like\n",
    "            try:\n",
    "                cat1 = pd.Categorical(last_data['cat1'])\n",
    "                cat2 = pd.Categorical(last_data['cat2'])\n",
    "                cat3 = pd.Categorical(last_data['cat3'])\n",
    "                brand = pd.Categorical(last_data['brand'])\n",
    "                descripcion = pd.Categorical(last_data['descripcion'])\n",
    "                sku_size = pd.Categorical(last_data['sku_size'])\n",
    "            except TypeError:\n",
    "                cat1, cat2, cat3, brand, descripcion, sku_size = None, None, None, None, None, None\n",
    "\n",
    "            if cat1 is not None and cat2 is not None and cat3 is not None and brand is not None and descripcion is not None and sku_size is not None:\n",
    "                # Construir datos para la predicción\n",
    "                next_data = pd.DataFrame({\n",
    "                    'product_id': [product_id],\n",
    "                    'cat1': [cat1.codes[0] if len(cat1) > 0 else 0],\n",
    "                    'cat2': [cat2.codes[0] if len(cat2) > 0 else 0],\n",
    "                    'cat3': [cat3.codes[0] if len(cat3) > 0 else 0],\n",
    "                    'brand': [brand.codes[0] if len(brand) > 0 else 0],\n",
    "                    'descripcion': [descripcion.codes[0] if len(descripcion) > 0 else 0],\n",
    "                    'sku_size': [sku_size.codes[0] if len(sku_size) > 0 else 0],\n",
    "                    'crisis': [(next_period.year == 2019) & (next_period.month == 8)],\n",
    "                    'quarter': [next_period.quarter],\n",
    "                    'month': [next_period.month],\n",
    "                    'year': [next_period.year],\n",
    "                    'season': [1 if next_period.month in [6, 7, 8] else 0],\n",
    "                    'tn_diff': [last_data['tn_diff']],\n",
    "                    'rolling_mean': [last_data['rolling_mean']],\n",
    "                    'interaction': [next_period.year * next_period.month],\n",
    "                    **{f'tn_lag_{lag}': [last_data[f'tn_lag_{lag}']] if f'tn_lag_{lag}' in product_data.columns else [0] for lag in range(1, lags + 1)},\n",
    "                    'tn_norm': [0]  # Ajustar tn_norm adecuadamente si es necesario\n",
    "                })\n",
    "\n",
    "                # Predecir usando el modelo de ensemble\n",
    "                pred = ensemble_model.predict(next_data)\n",
    "                # Obtener el peso basado en ventas para el producto\n",
    "                peso_ventas = pesos_ventas.get(product_id, 0)\n",
    "                results.append({'product_id': product_id, 'predicted_tn': pred[0] * peso_ventas})\n",
    "            else:\n",
    "                product_mean_tn = ts[ts['product_id'] == product_id]['tn'].mean()\n",
    "                if not pd.isna(product_mean_tn):\n",
    "                    results.append({'product_id': product_id, 'predicted_tn': product_mean_tn})\n",
    "                else:\n",
    "                    global_mean_tn = ts['tn'].mean()\n",
    "                    results.append({'product_id': product_id, 'predicted_tn': global_mean_tn})\n",
    "        else:\n",
    "            product_mean_tn = ts[ts['product_id'] == product_id]['tn'].mean()\n",
    "            if not pd.isna(product_mean_tn):\n",
    "                results.append({'product_id': product_id, 'predicted_tn': product_mean_tn})\n",
    "            else:\n",
    "                global_mean_tn = ts['tn'].mean()\n",
    "                results.append({'product_id': product_id, 'predicted_tn': global_mean_tn})\n",
    "\n",
    "    return pd.DataFrame(results)"
   ]
  },
  {
   "cell_type": "code",
   "execution_count": 6,
   "metadata": {},
   "outputs": [],
   "source": [
    "def evaluar_metricas(df, results_df, target_date='2019-12-01'):\n",
    "    df['date'] = pd.to_datetime(df['periodo'], format='%Y%m')\n",
    "    df_filtered = df[df['date'] == target_date]\n",
    "    results_df_ajustado = results_df.groupby('product_id')['predicted_tn'].sum()\n",
    "\n",
    "    metricas_por_producto = []\n",
    "    numerador = 0\n",
    "    denominator = 0\n",
    "\n",
    "    for product_id in df_filtered['product_id'].unique():\n",
    "        if product_id in results_df_ajustado.index:\n",
    "            y_true = df_filtered.loc[df_filtered['product_id'] == product_id, 'tn'].values[0]\n",
    "            y_pred = results_df_ajustado.loc[product_id]\n",
    "            numerador += abs(y_true - y_pred)\n",
    "            denominator += y_true\n",
    "            rmse = np.sqrt(mean_squared_error([y_true], [y_pred]))\n",
    "            mae = mean_absolute_error([y_true], [y_pred])\n",
    "            r2 = r2_score([y_true], [y_pred]) if len([y_true]) > 1 and len([y_pred]) > 1 else float('nan')\n",
    "            metricas_por_producto.append({\n",
    "                'product_id': product_id,\n",
    "                'rmse': rmse,\n",
    "                'mae': mae,\n",
    "                'r2': r2\n",
    "            })\n",
    "\n",
    "    if metricas_por_producto:\n",
    "        avg_rmse = np.mean([m['rmse'] for m in metricas_por_producto])\n",
    "        avg_mae = np.mean([m['mae'] for m in metricas_por_producto])\n",
    "        avg_r2 = np.nanmean([m['r2'] for m in metricas_por_producto])\n",
    "        metricas_por_producto.append({\n",
    "            'product_id': 'average',\n",
    "            'rmse': avg_rmse,\n",
    "            'mae': avg_mae,\n",
    "            'r2': avg_r2\n",
    "        })\n",
    "\n",
    "    metricas_df = pd.DataFrame(metricas_por_producto)\n",
    "    metricaMultinacion = numerador / denominator\n",
    "    print(\"Métrica multinacional\", metricaMultinacion)\n",
    "    print(\"metrica multinacional\", metricaMultinacion)\n",
    "    print(\"rmse: \", metricas_df['rmse'].mean())\n",
    "    print(\"mae: \", metricas_df['mae'].mean())\n",
    "    print(\"r2: \", metricas_df['r2'].mean())\n",
    "\n",
    "    # Exportar métricas a un archivo CSV\n",
    "    metricas_df.to_csv('metricas_por_producto.csv', index=False)\n",
    "    print(f\"Métricas por producto exportadas a 'metricas_por_producto.csv'\")\n",
    "    \n",
    "    return metricas_df"
   ]
  },
  {
   "cell_type": "markdown",
   "metadata": {},
   "source": [
    "Inicio codigo"
   ]
  },
  {
   "cell_type": "code",
   "execution_count": 7,
   "metadata": {},
   "outputs": [],
   "source": [
    "# Cargar los datos\n",
    "df = pd.read_csv('../../../sell-in.txt/sell-in.txt', sep='\\t')\n",
    "productosPredecir = pd.read_csv('C:/Users/Josvaldes/Documents/Maestria/Austral/2ano/Labo3/datasets/Proyecto/Labo3/Datasets/productos_a_predecir.txt', sep='\\t')\n",
    "tb_productos = pd.read_csv('c:/Users/Josvaldes/Documents/Maestria/Austral/2ano/Labo3/datasets/Proyecto/Labo3/Datasets/tb_productos_descripcion.txt', sep='\\t')"
   ]
  },
  {
   "cell_type": "code",
   "execution_count": 8,
   "metadata": {},
   "outputs": [],
   "source": [
    "ts = preparar_datos(df, tb_productos, lags=30)"
   ]
  },
  {
   "cell_type": "markdown",
   "metadata": {},
   "source": [
    "Predicción sobre febrero 2020"
   ]
  },
  {
   "cell_type": "code",
   "execution_count": 9,
   "metadata": {},
   "outputs": [
    {
     "data": {
      "text/plain": [
       "array([20001, 20002, 20003, ..., 21267, 21271, 21276], dtype=int64)"
      ]
     },
     "execution_count": 9,
     "metadata": {},
     "output_type": "execute_result"
    }
   ],
   "source": [
    "productosPredecir = ts['product_id'].values\n",
    "productosPredecir"
   ]
  },
  {
   "cell_type": "code",
   "execution_count": 10,
   "metadata": {},
   "outputs": [
    {
     "name": "stderr",
     "output_type": "stream",
     "text": [
      "C:\\Users\\Josvaldes\\AppData\\Local\\Temp\\ipykernel_28960\\2418058701.py:22: SettingWithCopyWarning: \n",
      "A value is trying to be set on a copy of a slice from a DataFrame.\n",
      "Try using .loc[row_indexer,col_indexer] = value instead\n",
      "\n",
      "See the caveats in the documentation: https://pandas.pydata.org/pandas-docs/stable/user_guide/indexing.html#returning-a-view-versus-a-copy\n",
      "  X_train[col] = X_train[col].astype('category').cat.codes\n",
      "C:\\Users\\Josvaldes\\AppData\\Local\\Temp\\ipykernel_28960\\2418058701.py:23: SettingWithCopyWarning: \n",
      "A value is trying to be set on a copy of a slice from a DataFrame.\n",
      "Try using .loc[row_indexer,col_indexer] = value instead\n",
      "\n",
      "See the caveats in the documentation: https://pandas.pydata.org/pandas-docs/stable/user_guide/indexing.html#returning-a-view-versus-a-copy\n",
      "  X_test[col] = X_test[col].astype('category').cat.codes\n"
     ]
    },
    {
     "name": "stdout",
     "output_type": "stream",
     "text": [
      "Fitting 5 folds for each of 100 candidates, totalling 500 fits\n",
      "[LightGBM] [Info] Auto-choosing col-wise multi-threading, the overhead of testing was 0.004972 seconds.\n",
      "You can set `force_col_wise=true` to remove the overhead.\n",
      "[LightGBM] [Info] Total Bins 2306\n",
      "[LightGBM] [Info] Number of data points in the train set: 26035, number of used features: 18\n",
      "[LightGBM] [Info] Start training from score 261.931920\n",
      "Best parameters found: {'subsample': 1.0, 'num_leaves': 128, 'n_estimators': 500, 'min_child_samples': 20, 'max_depth': -1, 'learning_rate': 0.1, 'colsample_bytree': 0.8}\n",
      "[LightGBM] [Info] Auto-choosing col-wise multi-threading, the overhead of testing was 0.002171 seconds.\n",
      "You can set `force_col_wise=true` to remove the overhead.\n",
      "[LightGBM] [Info] Total Bins 2306\n",
      "[LightGBM] [Info] Number of data points in the train set: 26035, number of used features: 18\n",
      "[LightGBM] [Info] Start training from score 261.931920\n",
      "Ensemble Model MSE: 3309.5480, MAE: 14.7492, R²: 0.6417\n"
     ]
    }
   ],
   "source": [
    "ensemble_model = entrenar_modelo(ts, lags=3)"
   ]
  },
  {
   "cell_type": "code",
   "execution_count": 11,
   "metadata": {},
   "outputs": [
    {
     "name": "stderr",
     "output_type": "stream",
     "text": [
      "Predicting with ensemble model: 100%|██████████| 31243/31243 [01:25<00:00, 363.45it/s]\n"
     ]
    }
   ],
   "source": [
    "result_df = predecir_producto(ensemble_model, ts, productosPredecir, next_period='2020-02-01', lags=3)"
   ]
  },
  {
   "cell_type": "code",
   "execution_count": 12,
   "metadata": {},
   "outputs": [
    {
     "name": "stdout",
     "output_type": "stream",
     "text": [
      "       product_id  predicted_tn\n",
      "0           20001   1398.344322\n",
      "1           20002   1009.368178\n",
      "2           20003    889.004243\n",
      "3           20004    671.615383\n",
      "4           20005    644.200514\n",
      "...           ...           ...\n",
      "31238       21265      0.089541\n",
      "31239       21266      0.094659\n",
      "31240       21267      0.092835\n",
      "31241       21271      0.026964\n",
      "31242       21276      0.045447\n",
      "\n",
      "[31243 rows x 2 columns]\n"
     ]
    }
   ],
   "source": [
    "print(result_df)"
   ]
  },
  {
   "cell_type": "code",
   "execution_count": 13,
   "metadata": {},
   "outputs": [
    {
     "name": "stdout",
     "output_type": "stream",
     "text": [
      "       product_id  predicted_tn\n",
      "0           20001   1398.344322\n",
      "36          20002   1009.368178\n",
      "72          20003    889.004243\n",
      "108         20004    671.615383\n",
      "144         20005    644.200514\n",
      "...           ...           ...\n",
      "22294       21263      0.089233\n",
      "22309       21265      0.089541\n",
      "22319       21266      0.094659\n",
      "22329       21267      0.092835\n",
      "22339       21276      0.045447\n",
      "\n",
      "[780 rows x 2 columns]\n"
     ]
    }
   ],
   "source": [
    "productosPredecir = pd.read_csv('C:/Users/Josvaldes/Documents/Maestria/Austral/2ano/Labo3/datasets/Proyecto/Labo3/Datasets/productos_a_predecir.txt', sep='\\t')\n",
    "\n",
    "# Asegúrate de que la columna 'product_id' en ambos DataFrames sea del mismo tipo\n",
    "result_df['product_id'] = result_df['product_id'].astype(int)\n",
    "productosPredecir['product_id'] = productosPredecir['product_id'].astype(int)\n",
    "\n",
    "# Realiza un merge para obtener solo los productos predichos que están en productosPredecir\n",
    "predicted_products = pd.merge(productosPredecir, result_df, on='product_id', how='inner')\n",
    "\n",
    "# Eliminar duplicados para asegurarse de tener un producto único\n",
    "predicted_products = predicted_products.drop_duplicates(subset=['product_id'])\n",
    "\n",
    "# Verifica el resultado\n",
    "print(predicted_products)"
   ]
  },
  {
   "cell_type": "code",
   "execution_count": 14,
   "metadata": {},
   "outputs": [],
   "source": [
    "predicted_products.to_csv('resultadosPredichos_8.csv', index=False)"
   ]
  },
  {
   "cell_type": "markdown",
   "metadata": {},
   "source": [
    "Kaggle 0.317"
   ]
  },
  {
   "cell_type": "markdown",
   "metadata": {},
   "source": [
    "Validación sobre diciembre 2019"
   ]
  },
  {
   "cell_type": "code",
   "execution_count": 15,
   "metadata": {},
   "outputs": [],
   "source": [
    "ts = preparar_datos(df, tb_productos, lags=3)\n",
    "ts = ts[ts['periodo'] < '2019-11-01']"
   ]
  },
  {
   "cell_type": "code",
   "execution_count": 16,
   "metadata": {},
   "outputs": [],
   "source": [
    "# Convertir cada elemento a int64\n",
    "#productoPrueba_int64 = [np.int64(x) for x in productosPredecir]"
   ]
  },
  {
   "cell_type": "code",
   "execution_count": 17,
   "metadata": {},
   "outputs": [
    {
     "name": "stderr",
     "output_type": "stream",
     "text": [
      "C:\\Users\\Josvaldes\\AppData\\Local\\Temp\\ipykernel_28960\\2418058701.py:22: SettingWithCopyWarning: \n",
      "A value is trying to be set on a copy of a slice from a DataFrame.\n",
      "Try using .loc[row_indexer,col_indexer] = value instead\n",
      "\n",
      "See the caveats in the documentation: https://pandas.pydata.org/pandas-docs/stable/user_guide/indexing.html#returning-a-view-versus-a-copy\n",
      "  X_train[col] = X_train[col].astype('category').cat.codes\n",
      "C:\\Users\\Josvaldes\\AppData\\Local\\Temp\\ipykernel_28960\\2418058701.py:23: SettingWithCopyWarning: \n",
      "A value is trying to be set on a copy of a slice from a DataFrame.\n",
      "Try using .loc[row_indexer,col_indexer] = value instead\n",
      "\n",
      "See the caveats in the documentation: https://pandas.pydata.org/pandas-docs/stable/user_guide/indexing.html#returning-a-view-versus-a-copy\n",
      "  X_test[col] = X_test[col].astype('category').cat.codes\n"
     ]
    },
    {
     "name": "stdout",
     "output_type": "stream",
     "text": [
      "Fitting 5 folds for each of 100 candidates, totalling 500 fits\n",
      "[LightGBM] [Info] Auto-choosing col-wise multi-threading, the overhead of testing was 0.002326 seconds.\n",
      "You can set `force_col_wise=true` to remove the overhead.\n",
      "[LightGBM] [Info] Total Bins 2301\n",
      "[LightGBM] [Info] Number of data points in the train set: 24480, number of used features: 18\n",
      "[LightGBM] [Info] Start training from score 261.952202\n",
      "Best parameters found: {'subsample': 1.0, 'num_leaves': 128, 'n_estimators': 500, 'min_child_samples': 20, 'max_depth': -1, 'learning_rate': 0.1, 'colsample_bytree': 0.8}\n",
      "[LightGBM] [Info] Auto-choosing col-wise multi-threading, the overhead of testing was 0.002476 seconds.\n",
      "You can set `force_col_wise=true` to remove the overhead.\n",
      "[LightGBM] [Info] Total Bins 2301\n",
      "[LightGBM] [Info] Number of data points in the train set: 24480, number of used features: 18\n",
      "[LightGBM] [Info] Start training from score 261.952202\n",
      "Ensemble Model MSE: 3482.3428, MAE: 15.4231, R²: 0.6454\n"
     ]
    }
   ],
   "source": [
    "ensemble_model_dic23 = entrenar_modelo(ts, lags=3)"
   ]
  },
  {
   "cell_type": "code",
   "execution_count": 18,
   "metadata": {},
   "outputs": [],
   "source": [
    "productosPredecir = ts['product_id'].values"
   ]
  },
  {
   "cell_type": "code",
   "execution_count": 19,
   "metadata": {},
   "outputs": [
    {
     "name": "stderr",
     "output_type": "stream",
     "text": [
      "Predicting with ensemble model: 100%|██████████| 29377/29377 [02:24<00:00, 203.96it/s]\n"
     ]
    }
   ],
   "source": [
    "result_df_dic23 = predecir_producto(ensemble_model_dic23, ts, productosPredecir, next_period='2019-12-01', lags=3)"
   ]
  },
  {
   "cell_type": "code",
   "execution_count": 20,
   "metadata": {},
   "outputs": [
    {
     "data": {
      "text/html": [
       "<div>\n",
       "<style scoped>\n",
       "    .dataframe tbody tr th:only-of-type {\n",
       "        vertical-align: middle;\n",
       "    }\n",
       "\n",
       "    .dataframe tbody tr th {\n",
       "        vertical-align: top;\n",
       "    }\n",
       "\n",
       "    .dataframe thead th {\n",
       "        text-align: right;\n",
       "    }\n",
       "</style>\n",
       "<table border=\"1\" class=\"dataframe\">\n",
       "  <thead>\n",
       "    <tr style=\"text-align: right;\">\n",
       "      <th></th>\n",
       "      <th>product_id</th>\n",
       "      <th>predicted_tn</th>\n",
       "    </tr>\n",
       "  </thead>\n",
       "  <tbody>\n",
       "    <tr>\n",
       "      <th>0</th>\n",
       "      <td>20001</td>\n",
       "      <td>1395.245139</td>\n",
       "    </tr>\n",
       "    <tr>\n",
       "      <th>1</th>\n",
       "      <td>20002</td>\n",
       "      <td>994.893190</td>\n",
       "    </tr>\n",
       "    <tr>\n",
       "      <th>2</th>\n",
       "      <td>20003</td>\n",
       "      <td>887.157574</td>\n",
       "    </tr>\n",
       "    <tr>\n",
       "      <th>3</th>\n",
       "      <td>20004</td>\n",
       "      <td>671.067991</td>\n",
       "    </tr>\n",
       "    <tr>\n",
       "      <th>4</th>\n",
       "      <td>20005</td>\n",
       "      <td>646.795952</td>\n",
       "    </tr>\n",
       "    <tr>\n",
       "      <th>...</th>\n",
       "      <td>...</td>\n",
       "      <td>...</td>\n",
       "    </tr>\n",
       "    <tr>\n",
       "      <th>29372</th>\n",
       "      <td>21266</td>\n",
       "      <td>0.103531</td>\n",
       "    </tr>\n",
       "    <tr>\n",
       "      <th>29373</th>\n",
       "      <td>21267</td>\n",
       "      <td>0.109018</td>\n",
       "    </tr>\n",
       "    <tr>\n",
       "      <th>29374</th>\n",
       "      <td>21269</td>\n",
       "      <td>0.108780</td>\n",
       "    </tr>\n",
       "    <tr>\n",
       "      <th>29375</th>\n",
       "      <td>21271</td>\n",
       "      <td>0.028482</td>\n",
       "    </tr>\n",
       "    <tr>\n",
       "      <th>29376</th>\n",
       "      <td>21276</td>\n",
       "      <td>0.051518</td>\n",
       "    </tr>\n",
       "  </tbody>\n",
       "</table>\n",
       "<p>29377 rows × 2 columns</p>\n",
       "</div>"
      ],
      "text/plain": [
       "       product_id  predicted_tn\n",
       "0           20001   1395.245139\n",
       "1           20002    994.893190\n",
       "2           20003    887.157574\n",
       "3           20004    671.067991\n",
       "4           20005    646.795952\n",
       "...           ...           ...\n",
       "29372       21266      0.103531\n",
       "29373       21267      0.109018\n",
       "29374       21269      0.108780\n",
       "29375       21271      0.028482\n",
       "29376       21276      0.051518\n",
       "\n",
       "[29377 rows x 2 columns]"
      ]
     },
     "execution_count": 20,
     "metadata": {},
     "output_type": "execute_result"
    }
   ],
   "source": [
    "result_df_dic23"
   ]
  },
  {
   "cell_type": "code",
   "execution_count": 21,
   "metadata": {},
   "outputs": [],
   "source": [
    "productosPredecir = pd.read_csv('C:/Users/Josvaldes/Documents/Maestria/Austral/2ano/Labo3/datasets/Proyecto/Labo3/Datasets/productos_a_predecir.txt', sep='\\t')"
   ]
  },
  {
   "cell_type": "code",
   "execution_count": 22,
   "metadata": {},
   "outputs": [
    {
     "data": {
      "text/html": [
       "<div>\n",
       "<style scoped>\n",
       "    .dataframe tbody tr th:only-of-type {\n",
       "        vertical-align: middle;\n",
       "    }\n",
       "\n",
       "    .dataframe tbody tr th {\n",
       "        vertical-align: top;\n",
       "    }\n",
       "\n",
       "    .dataframe thead th {\n",
       "        text-align: right;\n",
       "    }\n",
       "</style>\n",
       "<table border=\"1\" class=\"dataframe\">\n",
       "  <thead>\n",
       "    <tr style=\"text-align: right;\">\n",
       "      <th></th>\n",
       "      <th>product_id</th>\n",
       "    </tr>\n",
       "  </thead>\n",
       "  <tbody>\n",
       "    <tr>\n",
       "      <th>0</th>\n",
       "      <td>20001</td>\n",
       "    </tr>\n",
       "    <tr>\n",
       "      <th>1</th>\n",
       "      <td>20002</td>\n",
       "    </tr>\n",
       "    <tr>\n",
       "      <th>2</th>\n",
       "      <td>20003</td>\n",
       "    </tr>\n",
       "    <tr>\n",
       "      <th>3</th>\n",
       "      <td>20004</td>\n",
       "    </tr>\n",
       "    <tr>\n",
       "      <th>4</th>\n",
       "      <td>20005</td>\n",
       "    </tr>\n",
       "    <tr>\n",
       "      <th>...</th>\n",
       "      <td>...</td>\n",
       "    </tr>\n",
       "    <tr>\n",
       "      <th>775</th>\n",
       "      <td>21263</td>\n",
       "    </tr>\n",
       "    <tr>\n",
       "      <th>776</th>\n",
       "      <td>21265</td>\n",
       "    </tr>\n",
       "    <tr>\n",
       "      <th>777</th>\n",
       "      <td>21266</td>\n",
       "    </tr>\n",
       "    <tr>\n",
       "      <th>778</th>\n",
       "      <td>21267</td>\n",
       "    </tr>\n",
       "    <tr>\n",
       "      <th>779</th>\n",
       "      <td>21276</td>\n",
       "    </tr>\n",
       "  </tbody>\n",
       "</table>\n",
       "<p>780 rows × 1 columns</p>\n",
       "</div>"
      ],
      "text/plain": [
       "     product_id\n",
       "0         20001\n",
       "1         20002\n",
       "2         20003\n",
       "3         20004\n",
       "4         20005\n",
       "..          ...\n",
       "775       21263\n",
       "776       21265\n",
       "777       21266\n",
       "778       21267\n",
       "779       21276\n",
       "\n",
       "[780 rows x 1 columns]"
      ]
     },
     "execution_count": 22,
     "metadata": {},
     "output_type": "execute_result"
    }
   ],
   "source": [
    "productosPredecir"
   ]
  },
  {
   "cell_type": "code",
   "execution_count": 23,
   "metadata": {},
   "outputs": [
    {
     "name": "stdout",
     "output_type": "stream",
     "text": [
      "       product_id  predicted_tn\n",
      "0           20001   1395.245139\n",
      "34          20002    994.893190\n",
      "68          20003    887.157574\n",
      "102         20004    671.067991\n",
      "136         20005    646.795952\n",
      "...           ...           ...\n",
      "20744       21263      0.099487\n",
      "20757       21265      0.097417\n",
      "20765       21266      0.103531\n",
      "20773       21267      0.109018\n",
      "20781       21276      0.051518\n",
      "\n",
      "[780 rows x 2 columns]\n"
     ]
    }
   ],
   "source": [
    "# Asegúrate de que la columna 'product_id' en ambos DataFrames sea del mismo tipo\n",
    "result_df_dic23['product_id'] = result_df_dic23['product_id'].astype(int)\n",
    "productosPredecir['product_id'] = productosPredecir['product_id'].astype(int)\n",
    "\n",
    "# Realiza un merge para obtener solo los productos predichos que están en productosPredecir\n",
    "predicted_products = pd.merge(productosPredecir, result_df_dic23, on='product_id', how='inner')\n",
    "\n",
    "# Eliminar duplicados para asegurarse de tener un producto único\n",
    "predicted_products = predicted_products.drop_duplicates(subset=['product_id'])\n",
    "\n",
    "# Verifica el resultado\n",
    "print(predicted_products)"
   ]
  },
  {
   "cell_type": "code",
   "execution_count": 24,
   "metadata": {},
   "outputs": [],
   "source": [
    "ts = preparar_datos(df, tb_productos, lags=3)"
   ]
  },
  {
   "cell_type": "code",
   "execution_count": 25,
   "metadata": {},
   "outputs": [
    {
     "name": "stdout",
     "output_type": "stream",
     "text": [
      "      product_id  predicted_tn     real_tn  metricaempresa\n",
      "0          20001   1398.344322  1504.68856        0.070675\n",
      "1          20002   1009.368178  1087.30855        0.071682\n",
      "2          20003    889.004243   892.50129        0.003918\n",
      "3          20004    671.615383   637.90002        0.052854\n",
      "4          20005    644.200514   593.24443        0.085894\n",
      "...          ...           ...         ...             ...\n",
      "1185       20962      3.915682     1.99182        0.965882\n",
      "1186       20975      3.583990     1.69045        1.120140\n",
      "1187       20995      3.365322     1.55285        1.167191\n",
      "1188       21087      0.907423     1.02205        0.112154\n",
      "1189       21214      0.411062     0.24428        0.682751\n",
      "\n",
      "[780 rows x 4 columns]\n"
     ]
    }
   ],
   "source": [
    "# Paso 1: Filtrar el DataFrame 'ts' para obtener los datos del período específico y los productos a predecir\n",
    "filtered_df = ts[(ts['periodo'] == '2019-12-01') & (ts['product_id'].isin(productosPredecir['product_id']))]\n",
    "\n",
    "# Paso 2: Agrupar los datos filtrados por 'product_id' y calcular la suma de 'tn' para cada producto\n",
    "real_tn = filtered_df.groupby('product_id')['tn'].sum()\n",
    "\n",
    "# Paso 3: Eliminar duplicados en 'result_df' para asegurar que cada producto aparezca una vez\n",
    "result_df_unique = result_df.drop_duplicates(subset='product_id')\n",
    "\n",
    "# Paso 4: Realizar un merge para asegurar que los 'product_id' coincidan en 'result_df' y 'real_tn'\n",
    "result_df_unique = result_df_unique.merge(real_tn.rename('real_tn'), on='product_id', how='left')\n",
    "\n",
    "# Paso 5: Calcular la métrica de la empresa por producto\n",
    "result_df_unique['metricaempresa'] = abs(result_df_unique['real_tn'] - result_df_unique['predicted_tn']) / result_df_unique['real_tn']\n",
    "\n",
    "# Paso 6: Filtrar 'result_df_unique' para obtener solo los productos que están en 'productosPredecir'\n",
    "final_result_df = result_df_unique[result_df_unique['product_id'].isin(productosPredecir['product_id'])]\n",
    "\n",
    "# Imprimir el resultado final\n",
    "print(final_result_df)"
   ]
  },
  {
   "cell_type": "code",
   "execution_count": 26,
   "metadata": {},
   "outputs": [
    {
     "name": "stdout",
     "output_type": "stream",
     "text": [
      "Métrica multinacional 5037.532761987415\n",
      "metrica multinacional 5037.532761987415\n",
      "rmse:  1291.3910324271842\n",
      "mae:  1291.3910324271842\n",
      "r2:  nan\n",
      "Métricas por producto exportadas a 'metricas_por_producto.csv'\n"
     ]
    },
    {
     "name": "stderr",
     "output_type": "stream",
     "text": [
      "C:\\Users\\Josvaldes\\AppData\\Local\\Temp\\ipykernel_28960\\4073115482.py:29: RuntimeWarning: Mean of empty slice\n",
      "  avg_r2 = np.nanmean([m['r2'] for m in metricas_por_producto])\n"
     ]
    }
   ],
   "source": [
    "metrica = evaluar_metricas(df, result_df, target_date='2019-12-01')"
   ]
  },
  {
   "cell_type": "code",
   "execution_count": 27,
   "metadata": {},
   "outputs": [],
   "source": [
    "final_result_df.to_csv('validacionDic23_8.csv', index=False)"
   ]
  },
  {
   "cell_type": "markdown",
   "metadata": {},
   "source": [
    "Segunda iteración con productos que tiene una metrica de la empresa superior al 10%"
   ]
  },
  {
   "cell_type": "code",
   "execution_count": 28,
   "metadata": {},
   "outputs": [
    {
     "name": "stdout",
     "output_type": "stream",
     "text": [
      "      product_id  predicted_tn    real_tn  metricaempresa\n",
      "5          20006    585.798891  417.23228        0.404011\n",
      "6          20007    611.623676  390.43432        0.566521\n",
      "7          20008    554.119264  195.36854        1.836277\n",
      "9          20010    518.641088  359.59998        0.442272\n",
      "11         20012    494.822204  173.13004        1.858096\n",
      "...          ...           ...        ...             ...\n",
      "1184       20703     12.166955    9.46570        0.285373\n",
      "1185       20962      3.915682    1.99182        0.965882\n",
      "1186       20975      3.583990    1.69045        1.120140\n",
      "1187       20995      3.365322    1.55285        1.167191\n",
      "1189       21214      0.411062    0.24428        0.682751\n",
      "\n",
      "[601 rows x 4 columns]\n"
     ]
    }
   ],
   "source": [
    "# Filtrar el DataFrame usando la función query\n",
    "SegundaIteracion_result_df = final_result_df.query('metricaempresa > 0.20')\n",
    "\n",
    "# Imprimir el resultado filtrado\n",
    "print(SegundaIteracion_result_df)"
   ]
  },
  {
   "cell_type": "code",
   "execution_count": 29,
   "metadata": {},
   "outputs": [],
   "source": [
    "SegundaIteracion_result_df.to_csv('productos2Iteracion.csv', index=False)"
   ]
  },
  {
   "cell_type": "code",
   "execution_count": 30,
   "metadata": {},
   "outputs": [
    {
     "data": {
      "text/html": [
       "<div>\n",
       "<style scoped>\n",
       "    .dataframe tbody tr th:only-of-type {\n",
       "        vertical-align: middle;\n",
       "    }\n",
       "\n",
       "    .dataframe tbody tr th {\n",
       "        vertical-align: top;\n",
       "    }\n",
       "\n",
       "    .dataframe thead th {\n",
       "        text-align: right;\n",
       "    }\n",
       "</style>\n",
       "<table border=\"1\" class=\"dataframe\">\n",
       "  <thead>\n",
       "    <tr style=\"text-align: right;\">\n",
       "      <th></th>\n",
       "      <th>product_id</th>\n",
       "      <th>predicted_tn</th>\n",
       "    </tr>\n",
       "  </thead>\n",
       "  <tbody>\n",
       "    <tr>\n",
       "      <th>0</th>\n",
       "      <td>20001</td>\n",
       "      <td>1398.344322</td>\n",
       "    </tr>\n",
       "    <tr>\n",
       "      <th>1</th>\n",
       "      <td>20002</td>\n",
       "      <td>1009.368178</td>\n",
       "    </tr>\n",
       "    <tr>\n",
       "      <th>2</th>\n",
       "      <td>20003</td>\n",
       "      <td>889.004243</td>\n",
       "    </tr>\n",
       "    <tr>\n",
       "      <th>3</th>\n",
       "      <td>20004</td>\n",
       "      <td>671.615383</td>\n",
       "    </tr>\n",
       "    <tr>\n",
       "      <th>4</th>\n",
       "      <td>20005</td>\n",
       "      <td>644.200514</td>\n",
       "    </tr>\n",
       "    <tr>\n",
       "      <th>...</th>\n",
       "      <td>...</td>\n",
       "      <td>...</td>\n",
       "    </tr>\n",
       "    <tr>\n",
       "      <th>31238</th>\n",
       "      <td>21265</td>\n",
       "      <td>0.089541</td>\n",
       "    </tr>\n",
       "    <tr>\n",
       "      <th>31239</th>\n",
       "      <td>21266</td>\n",
       "      <td>0.094659</td>\n",
       "    </tr>\n",
       "    <tr>\n",
       "      <th>31240</th>\n",
       "      <td>21267</td>\n",
       "      <td>0.092835</td>\n",
       "    </tr>\n",
       "    <tr>\n",
       "      <th>31241</th>\n",
       "      <td>21271</td>\n",
       "      <td>0.026964</td>\n",
       "    </tr>\n",
       "    <tr>\n",
       "      <th>31242</th>\n",
       "      <td>21276</td>\n",
       "      <td>0.045447</td>\n",
       "    </tr>\n",
       "  </tbody>\n",
       "</table>\n",
       "<p>31243 rows × 2 columns</p>\n",
       "</div>"
      ],
      "text/plain": [
       "       product_id  predicted_tn\n",
       "0           20001   1398.344322\n",
       "1           20002   1009.368178\n",
       "2           20003    889.004243\n",
       "3           20004    671.615383\n",
       "4           20005    644.200514\n",
       "...           ...           ...\n",
       "31238       21265      0.089541\n",
       "31239       21266      0.094659\n",
       "31240       21267      0.092835\n",
       "31241       21271      0.026964\n",
       "31242       21276      0.045447\n",
       "\n",
       "[31243 rows x 2 columns]"
      ]
     },
     "execution_count": 30,
     "metadata": {},
     "output_type": "execute_result"
    }
   ],
   "source": [
    "result_df"
   ]
  },
  {
   "cell_type": "code",
   "execution_count": 31,
   "metadata": {},
   "outputs": [
    {
     "name": "stdout",
     "output_type": "stream",
     "text": [
      "     product_id  predicted_tn_x     real_tn  metricaempresa  predicted_tn_y\n",
      "0         20001     1398.344322  1504.68856        0.070675     1398.344322\n",
      "1         20002     1009.368178  1087.30855        0.071682     1009.368178\n",
      "2         20003      889.004243   892.50129        0.003918      889.004243\n",
      "3         20004      671.615383   637.90002        0.052854      671.615383\n",
      "4         20005      644.200514   593.24443        0.085894      644.200514\n",
      "..          ...             ...         ...             ...             ...\n",
      "174       21058        1.643780     1.84115        0.107199        1.643780\n",
      "175       21097        1.378714     1.34469        0.025302        1.378714\n",
      "176       21110        1.391452     1.52502        0.087584        1.391452\n",
      "177       21129        0.927806     0.78410        0.183275        0.927806\n",
      "178       21087        0.907423     1.02205        0.112154        0.907423\n",
      "\n",
      "[179 rows x 5 columns]\n"
     ]
    },
    {
     "name": "stderr",
     "output_type": "stream",
     "text": [
      "C:\\Users\\Josvaldes\\AppData\\Local\\Temp\\ipykernel_28960\\2303451438.py:8: SettingWithCopyWarning: \n",
      "A value is trying to be set on a copy of a slice from a DataFrame.\n",
      "Try using .loc[row_indexer,col_indexer] = value instead\n",
      "\n",
      "See the caveats in the documentation: https://pandas.pydata.org/pandas-docs/stable/user_guide/indexing.html#returning-a-view-versus-a-copy\n",
      "  listadoProductosFinal_result_df_1['product_id'] = listadoProductosFinal_result_df_1['product_id'].astype(int)\n"
     ]
    }
   ],
   "source": [
    "# Filtrar el DataFrame usando la función query\n",
    "listadoProductosFinal_result_df_1 = final_result_df.query('metricaempresa < 0.20')\n",
    "\n",
    "predicted_products = pd.read_csv('C:/Users/Josvaldes/Documents/Maestria/Austral/2ano/Labo3/datasets/Proyecto/Labo3/Predicciones/resultadosPredichos_8.csv', sep=',')\n",
    "\n",
    "# Asegúrate de que la columna 'product_id' en ambos DataFrames sea del mismo tipo\n",
    "predicted_products['product_id'] = predicted_products['product_id'].astype(int)\n",
    "listadoProductosFinal_result_df_1['product_id'] = listadoProductosFinal_result_df_1['product_id'].astype(int)\n",
    "\n",
    "# Realiza un merge para obtener solo los productos predichos que están en productosPredecir\n",
    "listadoProductosFinal_result_df_1 = pd.merge(listadoProductosFinal_result_df_1, predicted_products, on='product_id', how='inner')\n",
    "\n",
    "# Eliminar duplicados para asegurarse de tener un producto único\n",
    "#listadoProductosFinal_result_df_1 = predicted_products.drop_duplicates(subset=['product_id'])\n",
    "\n",
    "# Verifica el resultado\n",
    "print(listadoProductosFinal_result_df_1)"
   ]
  },
  {
   "cell_type": "code",
   "execution_count": 32,
   "metadata": {},
   "outputs": [
    {
     "data": {
      "text/html": [
       "<div>\n",
       "<style scoped>\n",
       "    .dataframe tbody tr th:only-of-type {\n",
       "        vertical-align: middle;\n",
       "    }\n",
       "\n",
       "    .dataframe tbody tr th {\n",
       "        vertical-align: top;\n",
       "    }\n",
       "\n",
       "    .dataframe thead th {\n",
       "        text-align: right;\n",
       "    }\n",
       "</style>\n",
       "<table border=\"1\" class=\"dataframe\">\n",
       "  <thead>\n",
       "    <tr style=\"text-align: right;\">\n",
       "      <th></th>\n",
       "      <th>product_id</th>\n",
       "      <th>predicted_tn</th>\n",
       "    </tr>\n",
       "  </thead>\n",
       "  <tbody>\n",
       "    <tr>\n",
       "      <th>0</th>\n",
       "      <td>20001</td>\n",
       "      <td>1398.344322</td>\n",
       "    </tr>\n",
       "    <tr>\n",
       "      <th>1</th>\n",
       "      <td>20002</td>\n",
       "      <td>1009.368178</td>\n",
       "    </tr>\n",
       "    <tr>\n",
       "      <th>2</th>\n",
       "      <td>20003</td>\n",
       "      <td>889.004243</td>\n",
       "    </tr>\n",
       "    <tr>\n",
       "      <th>3</th>\n",
       "      <td>20004</td>\n",
       "      <td>671.615383</td>\n",
       "    </tr>\n",
       "    <tr>\n",
       "      <th>4</th>\n",
       "      <td>20005</td>\n",
       "      <td>644.200514</td>\n",
       "    </tr>\n",
       "    <tr>\n",
       "      <th>...</th>\n",
       "      <td>...</td>\n",
       "      <td>...</td>\n",
       "    </tr>\n",
       "    <tr>\n",
       "      <th>775</th>\n",
       "      <td>21263</td>\n",
       "      <td>0.089233</td>\n",
       "    </tr>\n",
       "    <tr>\n",
       "      <th>776</th>\n",
       "      <td>21265</td>\n",
       "      <td>0.089541</td>\n",
       "    </tr>\n",
       "    <tr>\n",
       "      <th>777</th>\n",
       "      <td>21266</td>\n",
       "      <td>0.094659</td>\n",
       "    </tr>\n",
       "    <tr>\n",
       "      <th>778</th>\n",
       "      <td>21267</td>\n",
       "      <td>0.092835</td>\n",
       "    </tr>\n",
       "    <tr>\n",
       "      <th>779</th>\n",
       "      <td>21276</td>\n",
       "      <td>0.045447</td>\n",
       "    </tr>\n",
       "  </tbody>\n",
       "</table>\n",
       "<p>780 rows × 2 columns</p>\n",
       "</div>"
      ],
      "text/plain": [
       "     product_id  predicted_tn\n",
       "0         20001   1398.344322\n",
       "1         20002   1009.368178\n",
       "2         20003    889.004243\n",
       "3         20004    671.615383\n",
       "4         20005    644.200514\n",
       "..          ...           ...\n",
       "775       21263      0.089233\n",
       "776       21265      0.089541\n",
       "777       21266      0.094659\n",
       "778       21267      0.092835\n",
       "779       21276      0.045447\n",
       "\n",
       "[780 rows x 2 columns]"
      ]
     },
     "execution_count": 32,
     "metadata": {},
     "output_type": "execute_result"
    }
   ],
   "source": [
    "predicted_products"
   ]
  },
  {
   "cell_type": "code",
   "execution_count": 46,
   "metadata": {},
   "outputs": [],
   "source": [
    "ts = preparar_datos(df, tb_productos, lags=3)\n",
    "\n",
    "# Cargar los DataFrames desde los archivos CSV\n",
    "SegundaIteracion_result_df = pd.read_csv('productos2Iteracion.csv')\n",
    "resultados_predichos_df = pd.read_csv('resultadosPredichos_8.csv')"
   ]
  },
  {
   "cell_type": "code",
   "execution_count": 57,
   "metadata": {},
   "outputs": [
    {
     "name": "stdout",
     "output_type": "stream",
     "text": [
      "     product_id  predicted_tn  promedio_ultimos_12_meses  promedio_ponderado\n",
      "0         20006    585.798891                 473.163365          529.481128\n",
      "1         20007    611.623676                 428.575593          520.099635\n",
      "2         20008    554.119264                 422.377476          488.248370\n",
      "3         20010    518.641088                 418.455800          468.548444\n",
      "4         20012    494.822204                 331.719096          413.270650\n",
      "..          ...           ...                        ...                 ...\n",
      "596       21263      0.089233                   0.032354            0.060794\n",
      "597       21265      0.089541                   0.089541            0.089541\n",
      "598       21266      0.094659                   0.094659            0.094659\n",
      "599       21267      0.092835                   0.092835            0.092835\n",
      "600       21276      0.045447                   0.045447            0.045447\n",
      "\n",
      "[601 rows x 4 columns]\n"
     ]
    }
   ],
   "source": [
    "# Filtrar los productos que están en la segunda iteración\n",
    "productos_ids_iteracion = SegundaIteracion_result_df['product_id'].unique()\n",
    "\n",
    "# Crear una lista para almacenar los promedios de los últimos 12 meses\n",
    "promedio_ultimos_12_meses = []\n",
    "\n",
    "# Calcular el promedio de 'tn' para los últimos 12 meses para cada producto en la segunda iteración\n",
    "for product_id in productos_ids_iteracion:\n",
    "    # Filtrar los datos del producto específico para los últimos 12 meses\n",
    "    filtered_data = ts[(ts['product_id'] == product_id) & \n",
    "                       (ts['periodo'] >= ts['periodo'].max() - pd.DateOffset(months=12))]\n",
    "    \n",
    "    # Calcular el promedio de 'tn' para los últimos 12 meses\n",
    "    avg_tn_last_12_months = filtered_data['tn'].mean()\n",
    "    \n",
    "    # Añadir el resultado a la lista\n",
    "    promedio_ultimos_12_meses.append((product_id, avg_tn_last_12_months))\n",
    "\n",
    "# Crear un DataFrame con los promedios de los últimos 12 meses\n",
    "promedios_df = pd.DataFrame(promedio_ultimos_12_meses, columns=['product_id', 'promedio_ultimos_12_meses'])\n",
    "\n",
    "# Combinar los DataFrames basándose en 'product_id'\n",
    "resultados_finales = pd.merge(resultados_predichos_df, promedios_df, on='product_id', how='inner')\n",
    "\n",
    "# Calcular el promedio ponderado entre la predicción y el promedio de los últimos 12 meses\n",
    "resultados_finales['promedio_ponderado'] = (resultados_finales['predicted_tn'] + resultados_finales['promedio_ultimos_12_meses']) / 2\n",
    "\n",
    "# Mostrar los resultados finales\n",
    "print(resultados_finales[['product_id', 'predicted_tn', 'promedio_ultimos_12_meses', 'promedio_ponderado']])"
   ]
  },
  {
   "cell_type": "code",
   "execution_count": 60,
   "metadata": {},
   "outputs": [
    {
     "data": {
      "text/html": [
       "<div>\n",
       "<style scoped>\n",
       "    .dataframe tbody tr th:only-of-type {\n",
       "        vertical-align: middle;\n",
       "    }\n",
       "\n",
       "    .dataframe tbody tr th {\n",
       "        vertical-align: top;\n",
       "    }\n",
       "\n",
       "    .dataframe thead th {\n",
       "        text-align: right;\n",
       "    }\n",
       "</style>\n",
       "<table border=\"1\" class=\"dataframe\">\n",
       "  <thead>\n",
       "    <tr style=\"text-align: right;\">\n",
       "      <th></th>\n",
       "      <th>product_id</th>\n",
       "      <th>predicted_tn</th>\n",
       "    </tr>\n",
       "  </thead>\n",
       "  <tbody>\n",
       "    <tr>\n",
       "      <th>0</th>\n",
       "      <td>20001</td>\n",
       "      <td>1398.344322</td>\n",
       "    </tr>\n",
       "    <tr>\n",
       "      <th>1</th>\n",
       "      <td>20002</td>\n",
       "      <td>1009.368178</td>\n",
       "    </tr>\n",
       "    <tr>\n",
       "      <th>2</th>\n",
       "      <td>20003</td>\n",
       "      <td>889.004243</td>\n",
       "    </tr>\n",
       "    <tr>\n",
       "      <th>3</th>\n",
       "      <td>20004</td>\n",
       "      <td>671.615383</td>\n",
       "    </tr>\n",
       "    <tr>\n",
       "      <th>4</th>\n",
       "      <td>20005</td>\n",
       "      <td>644.200514</td>\n",
       "    </tr>\n",
       "  </tbody>\n",
       "</table>\n",
       "</div>"
      ],
      "text/plain": [
       "   product_id  predicted_tn\n",
       "0       20001   1398.344322\n",
       "1       20002   1009.368178\n",
       "2       20003    889.004243\n",
       "3       20004    671.615383\n",
       "4       20005    644.200514"
      ]
     },
     "execution_count": 60,
     "metadata": {},
     "output_type": "execute_result"
    }
   ],
   "source": [
    "resultados_predichos_df.head()"
   ]
  },
  {
   "cell_type": "code",
   "execution_count": 62,
   "metadata": {},
   "outputs": [
    {
     "name": "stdout",
     "output_type": "stream",
     "text": [
      "     product_id  predicted_tn\n",
      "0         20001   1398.344322\n",
      "1         20002   1009.368178\n",
      "2         20003    889.004243\n",
      "3         20004    671.615383\n",
      "4         20005    644.200514\n",
      "..          ...           ...\n",
      "775       21263      0.060794\n",
      "776       21265      0.089541\n",
      "777       21266      0.094659\n",
      "778       21267      0.092835\n",
      "779       21276      0.045447\n",
      "\n",
      "[780 rows x 2 columns]\n"
     ]
    }
   ],
   "source": [
    "# Crear una copia del DataFrame de resultados predichos\n",
    "resultados_predichos_actualizados = resultados_predichos_df[['product_id', 'predicted_tn']].copy()\n",
    "\n",
    "# Combinar el DataFrame de resultados predichos con los promedios ponderados basándose en 'product_id'\n",
    "resultados_ajustados = pd.merge(resultados_predichos_actualizados, \n",
    "                                resultados_finales[['product_id', 'promedio_ponderado']], \n",
    "                                on='product_id', \n",
    "                                how='left')\n",
    "\n",
    "# Rellenar los valores NaN en la columna 'promedio_ponderado' con los valores originales de 'predicted_tn'\n",
    "resultados_ajustados['predicted_tn'] = resultados_ajustados['promedio_ponderado'].combine_first(resultados_ajustados['predicted_tn'])\n",
    "\n",
    "# Seleccionar solo las columnas deseadas\n",
    "resultados_finales_actualizados = resultados_ajustados[['product_id', 'predicted_tn']]\n",
    "\n",
    "# Mostrar el DataFrame final en la estructura deseada\n",
    "print(resultados_finales_actualizados)"
   ]
  },
  {
   "cell_type": "code",
   "execution_count": 63,
   "metadata": {},
   "outputs": [],
   "source": [
    "resultados_finales_actualizados.to_csv('resultadosPredichos_8_Ajustado.csv', index=False)"
   ]
  },
  {
   "cell_type": "markdown",
   "metadata": {},
   "source": [
    "Kaggle 0.287"
   ]
  }
 ],
 "metadata": {
  "kernelspec": {
   "display_name": "Python 3",
   "language": "python",
   "name": "python3"
  },
  "language_info": {
   "codemirror_mode": {
    "name": "ipython",
    "version": 3
   },
   "file_extension": ".py",
   "mimetype": "text/x-python",
   "name": "python",
   "nbconvert_exporter": "python",
   "pygments_lexer": "ipython3",
   "version": "3.11.4"
  }
 },
 "nbformat": 4,
 "nbformat_minor": 2
}
